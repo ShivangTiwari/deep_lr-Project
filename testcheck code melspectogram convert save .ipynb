{
 "cells": [
  {
   "cell_type": "code",
   "execution_count": 1,
   "metadata": {},
   "outputs": [],
   "source": [
    "import numpy as np\n",
    "import pandas as pd\n",
    "import random\n",
    "from scipy.io import wavfile\n",
    "from sklearn.preprocessing import scale\n",
    "import librosa.display\n",
    "import librosa\n",
    "import matplotlib.pyplot as plt\n",
    "import os"
   ]
  },
  {
   "cell_type": "code",
   "execution_count": 2,
   "metadata": {},
   "outputs": [],
   "source": [
    "import warnings\n",
    "warnings.filterwarnings('ignore')"
   ]
  },
  {
   "cell_type": "code",
   "execution_count": 3,
   "metadata": {},
   "outputs": [],
   "source": [
    "def save_melspectrogram(directory_path, file_name, dataset_split, label, sampling_rate=44100):\n",
    "    \"\"\" Will save spectogram into current directory\"\"\"\n",
    "    \n",
    "    path_to_file = os.path.join(directory_path, file_name)\n",
    "    data, sr = librosa.load(path_to_file, sr=sampling_rate, mono=True)\n",
    "    data = scale(data)\n",
    "\n",
    "    melspec = librosa.feature.melspectrogram(y=data, sr=sr, n_mels=128)\n",
    "    # Convert to log scale (dB) using the peak power (max) as reference\n",
    "        # per suggestion from Librbosa: https://librosa.github.io/librosa/generated/librosa.feature.melspectrogram.html\n",
    "    log_melspec = librosa.power_to_db(melspec, ref=np.max)  \n",
    "    librosa.display.specshow(log_melspec, sr=sr)\n",
    "    \n",
    "    # create saving directory\n",
    "    directory = './melspectrograms_selected/{dataset}/{label}'.format(dataset=dataset_split, label=label)\n",
    "    if not os.path.exists(directory):\n",
    "        os.makedirs(directory)\n",
    "    \n",
    "    plt.savefig(directory + '/' + file_name.strip('.wav') + '.png')"
   ]
  },
  {
   "cell_type": "code",
   "execution_count": 4,
   "metadata": {},
   "outputs": [],
   "source": [
    "def _train_test_split(filenames, train_pct):\n",
    "    \"\"\"Create train and test splits for ESC-50 data\"\"\"\n",
    "    random.seed(2018)\n",
    "    n_files = len(filenames)\n",
    "    n_train = int(n_files*train_pct)\n",
    "    train = np.random.choice(n_files, n_train, replace=False)\n",
    "        \n",
    "    # split on training indices\n",
    "    training_idx = np.isin(range(n_files), train)\n",
    "    training_set = np.array(filenames)[training_idx]\n",
    "    testing_set = np.array(filenames)[~training_idx]\n",
    "    print('\\tfiles in training set: {}, files in testing set: {}'.format(len(training_set), len(testing_set)))\n",
    "    \n",
    "    return {'training': training_set, 'testing': testing_set}   "
   ]
  },
  {
   "cell_type": "code",
   "execution_count": 6,
   "metadata": {},
   "outputs": [
    {
     "data": {
      "text/html": [
       "<div>\n",
       "<style scoped>\n",
       "    .dataframe tbody tr th:only-of-type {\n",
       "        vertical-align: middle;\n",
       "    }\n",
       "\n",
       "    .dataframe tbody tr th {\n",
       "        vertical-align: top;\n",
       "    }\n",
       "\n",
       "    .dataframe thead th {\n",
       "        text-align: right;\n",
       "    }\n",
       "</style>\n",
       "<table border=\"1\" class=\"dataframe\">\n",
       "  <thead>\n",
       "    <tr style=\"text-align: right;\">\n",
       "      <th></th>\n",
       "      <th>date</th>\n",
       "      <th>corona_test</th>\n",
       "      <th>age</th>\n",
       "      <th>gender</th>\n",
       "      <th>medical_history</th>\n",
       "      <th>smoker</th>\n",
       "      <th>patient_reported_symptoms</th>\n",
       "      <th>cough_filename</th>\n",
       "      <th>Unnamed: 8</th>\n",
       "      <th>Unnamed: 9</th>\n",
       "    </tr>\n",
       "  </thead>\n",
       "  <tbody>\n",
       "    <tr>\n",
       "      <th>0</th>\n",
       "      <td>Apr-21</td>\n",
       "      <td>negative</td>\n",
       "      <td>53.0</td>\n",
       "      <td>male</td>\n",
       "      <td>none,</td>\n",
       "      <td>yes</td>\n",
       "      <td>none,</td>\n",
       "      <td>neg-0421-083-cough-m-53.wav</td>\n",
       "      <td>NaN</td>\n",
       "      <td>m-53.wav</td>\n",
       "    </tr>\n",
       "    <tr>\n",
       "      <th>1</th>\n",
       "      <td>Apr-21</td>\n",
       "      <td>positive</td>\n",
       "      <td>50.0</td>\n",
       "      <td>male</td>\n",
       "      <td>Congestive heart failure,</td>\n",
       "      <td>no</td>\n",
       "      <td>Shortness of breath,</td>\n",
       "      <td>pos-0421-084-cough-m-50.wav</td>\n",
       "      <td>NaN</td>\n",
       "      <td>m-50.wav</td>\n",
       "    </tr>\n",
       "    <tr>\n",
       "      <th>2</th>\n",
       "      <td>Apr-21</td>\n",
       "      <td>negative</td>\n",
       "      <td>43.0</td>\n",
       "      <td>male</td>\n",
       "      <td>none,</td>\n",
       "      <td>no</td>\n",
       "      <td>Sore throat,</td>\n",
       "      <td>neg-0421-085-cough-m-43.wav</td>\n",
       "      <td>NaN</td>\n",
       "      <td>m-43.wav</td>\n",
       "    </tr>\n",
       "    <tr>\n",
       "      <th>3</th>\n",
       "      <td>Apr-21</td>\n",
       "      <td>positive</td>\n",
       "      <td>65.0</td>\n",
       "      <td>male</td>\n",
       "      <td>Asthma or chronic lung disease,</td>\n",
       "      <td>no</td>\n",
       "      <td>Shortness of breath,New or worsening cough,</td>\n",
       "      <td>pos-0421-086-cough-m-65.wav</td>\n",
       "      <td>NaN</td>\n",
       "      <td>m-65.wav</td>\n",
       "    </tr>\n",
       "    <tr>\n",
       "      <th>4</th>\n",
       "      <td>Apr-21</td>\n",
       "      <td>positive</td>\n",
       "      <td>40.0</td>\n",
       "      <td>female</td>\n",
       "      <td>none,</td>\n",
       "      <td>no</td>\n",
       "      <td>Sore throat,Loss of taste,Loss of smell,</td>\n",
       "      <td>pos-0421-087-cough-f-40.wav</td>\n",
       "      <td>NaN</td>\n",
       "      <td>f-40.wav</td>\n",
       "    </tr>\n",
       "  </tbody>\n",
       "</table>\n",
       "</div>"
      ],
      "text/plain": [
       "     date corona_test   age  gender                  medical_history smoker  \\\n",
       "0  Apr-21    negative  53.0    male                            none,    yes   \n",
       "1  Apr-21    positive  50.0    male        Congestive heart failure,     no   \n",
       "2  Apr-21    negative  43.0    male                            none,     no   \n",
       "3  Apr-21    positive  65.0    male  Asthma or chronic lung disease,     no   \n",
       "4  Apr-21    positive  40.0  female                            none,     no   \n",
       "\n",
       "                     patient_reported_symptoms               cough_filename  \\\n",
       "0                                        none,  neg-0421-083-cough-m-53.wav   \n",
       "1                         Shortness of breath,  pos-0421-084-cough-m-50.wav   \n",
       "2                                 Sore throat,  neg-0421-085-cough-m-43.wav   \n",
       "3  Shortness of breath,New or worsening cough,  pos-0421-086-cough-m-65.wav   \n",
       "4     Sore throat,Loss of taste,Loss of smell,  pos-0421-087-cough-f-40.wav   \n",
       "\n",
       "   Unnamed: 8 Unnamed: 9  \n",
       "0         NaN   m-53.wav  \n",
       "1         NaN   m-50.wav  \n",
       "2         NaN   m-43.wav  \n",
       "3         NaN   m-65.wav  \n",
       "4         NaN   f-40.wav  "
      ]
     },
     "execution_count": 6,
     "metadata": {},
     "output_type": "execute_result"
    }
   ],
   "source": [
    "\n",
    "\n",
    "# Load meta data for audio files\n",
    "meta_data = pd.read_csv(r\"C:\\\\Users\\\\asus\\\\Downloads\\\\minor code\\\\coughdataset\\\\labels2.csv\")\n",
    "\n",
    "labs = meta_data.corona_test\n",
    "unique_labels = labs.unique()\n",
    "\n",
    "meta_data.head()"
   ]
  },
  {
   "cell_type": "code",
   "execution_count": 11,
   "metadata": {},
   "outputs": [
    {
     "name": "stdout",
     "output_type": "stream",
     "text": [
      "Proccesing negative audio files\n",
      "\tfiles in training set: 4, files in testing set: 17\n",
      "Proccesing positive audio files\n",
      "\tfiles in training set: 3, files in testing set: 16\n"
     ]
    },
    {
     "data": {
      "image/png": "[encoded data removed]",
      "text/plain": [
       "<Figure size 432x288 with 1 Axes>"
      ]
     },
     "metadata": {},
     "output_type": "display_data"
    }
   ],
   "source": [
    "for label in unique_labels:\n",
    "    \n",
    "    print(\"Proccesing {} audio files\".format(label))\n",
    "    \n",
    "    current_label_meta_data = meta_data[meta_data.corona_test == label]\n",
    "    \n",
    "    datasets = _train_test_split(current_label_meta_data.cough_filename, train_pct=0.2)\n",
    "    \n",
    "    for dataset_split, audio_files in datasets.items():\n",
    "        \n",
    "        for filename in audio_files:\n",
    "            \n",
    "            directory_path = r\"C:\\\\Users\\\\asus\\\\Downloads\\\\minor code\\\\coughdataset\\\\pos\"\n",
    "            \n",
    "            save_melspectrogram(directory_path, filename, dataset_split, label, sampling_rate=44100)"
   ]
  },
  {
   "cell_type": "code",
   "execution_count": null,
   "metadata": {},
   "outputs": [],
   "source": []
  }
 ],
 "metadata": {
  "kernelspec": {
   "display_name": "Python 3",
   "language": "python",
   "name": "python3"
  },
  "language_info": {
   "codemirror_mode": {
    "name": "ipython",
    "version": 3
   },
   "file_extension": ".py",
   "mimetype": "text/x-python",
   "name": "python",
   "nbconvert_exporter": "python",
   "pygments_lexer": "ipython3",
   "version": "3.8.5"
  }
 },
 "nbformat": 4,
 "nbformat_minor": 4
}
